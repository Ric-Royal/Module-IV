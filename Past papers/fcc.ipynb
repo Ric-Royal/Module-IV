{
 "cells": [
  {
   "cell_type": "code",
   "execution_count": 1,
   "metadata": {},
   "outputs": [],
   "source": [
    "# Write a function highest_rank that takes in a Dictionay of {Name: Integers} and returns the Name with the highest Integer. \n",
    "def highest_rank(dict):\n",
    "    highest = 0\n",
    "    for name in dict:\n",
    "        if dict[name] > highest:\n",
    "            highest = dict[name]\n",
    "            highest_name = name\n",
    "    return highest_name"
   ]
  },
  {
   "cell_type": "code",
   "execution_count": 2,
   "metadata": {},
   "outputs": [
    {
     "name": "stdout",
     "output_type": "stream",
     "text": [
      "Bob\n"
     ]
    }
   ],
   "source": [
    "# Test\n",
    "scores = {\"Alice\": 90, \"Bob\": 95, \"Charlie\": 92}\n",
    "print(highest_rank(scores))  # This will print \"Bob\""
   ]
  },
  {
   "cell_type": "code",
   "execution_count": 3,
   "metadata": {},
   "outputs": [
    {
     "name": "stdout",
     "output_type": "stream",
     "text": [
      "olleH\n"
     ]
    }
   ],
   "source": [
    "# Using indexing write an expression that takes reverses the order of a string. \n",
    "# For example, if the string is \"Hello\", the expression should return \"olleH\".\n",
    "\n",
    "\n",
    "x = \"Hello\"\n",
    "print(x[::-1])\n"
   ]
  },
  {
   "cell_type": "code",
   "execution_count": 5,
   "metadata": {},
   "outputs": [
    {
     "data": {
      "text/plain": [
       "array([[52,  4, 29, ..., 65, 11, 64],\n",
       "       [15, 89, 26, ..., 96, 25, 62],\n",
       "       [48, 74, 54, ...,  6, 84, 72],\n",
       "       ...,\n",
       "       [97, 70, 88, ..., 68, 71,  1],\n",
       "       [42, 43, 31, ..., 19, 42, 33],\n",
       "       [51, 13, 18, ..., 29, 61, 38]])"
      ]
     },
     "execution_count": 5,
     "metadata": {},
     "output_type": "execute_result"
    }
   ],
   "source": [
    "# import numpy\n",
    "import numpy as np\n",
    "\n",
    "# Create a 100x100 matrix with positive integer random values ranging from 1 to 100\n",
    "matrix = np.random.randint(1, 101, (100, 100))\n",
    "matrix"
   ]
  },
  {
   "cell_type": "code",
   "execution_count": null,
   "metadata": {},
   "outputs": [],
   "source": [
    "# code that calculates the sum of the diagonal elements of a matrix\n",
    "def sum_diagonal(matrix):\n",
    "    sum = 0\n",
    "    for i in range(len(matrix)):\n",
    "        sum += matrix[i][i]\n",
    "    return sum"
   ]
  },
  {
   "cell_type": "code",
   "execution_count": null,
   "metadata": {},
   "outputs": [],
   "source": [
    "# code that calukates the maximum values of each row in a matrix A\n",
    "def max_row(matrix):\n",
    "    max_list = []\n",
    "    for i in range(len(matrix)):\n",
    "        max_list.append(max(matrix[i]))\n",
    "    return max_list"
   ]
  },
  {
   "cell_type": "code",
   "execution_count": null,
   "metadata": {},
   "outputs": [],
   "source": [
    "# Use the following steps/questions to investigate the mammals sleep data set msleep.csv.\n",
    "# Write a code that creates a new data frame by removing the rows of the original frame\n",
    "# where the value of vore is missing and use the new data frame without the missing\n",
    "# values of vore in the subsequent analysis. Take note that some values of the variable\n",
    "# vore are missing. \n",
    "\n",
    "import pandas as pd\n",
    "import numpy as np\n",
    "\n",
    "# Read the data\n",
    "df = pd.read_csv(\"msleep.csv\")\n",
    "\n",
    "# Remove the rows where vore is missing\n",
    "df = df[df.vore.notnull()]\n"
   ]
  },
  {
   "cell_type": "code",
   "execution_count": null,
   "metadata": {},
   "outputs": [],
   "source": [
    "# Write a function that calculates the time on average mammals in each of the 4 different\n",
    "# classes of vore spend sleeping. As a short answer, include a comment in the code that\n",
    "# shows/indicate the average time different classes of mammals sleep. \n",
    "\n",
    "def avg_sleep(df):\n",
    "    # Create a list of the different classes of vore\n",
    "    vore_list = df.vore.unique()\n",
    "    # Create a list of the average hours of sleep for each class of vore\n",
    "    avg_list = []\n",
    "    for vore in vore_list:\n",
    "        avg_list.append(df[df.vore == vore].sleep_total.mean())\n",
    "    # Create a dictionary of the average hours of sleep for each class of vore\n",
    "    avg_dict = dict(zip(vore_list, avg_list))\n",
    "    return avg_dict"
   ]
  },
  {
   "cell_type": "code",
   "execution_count": null,
   "metadata": {},
   "outputs": [],
   "source": [
    "# Write a code that creates a scatter plot using matlplotlib between the body weight of a\n",
    "# mammal (bodywt ) and the amount of time spent awake ( awake ). Remember to apply\n",
    "# the principles of visualization\n",
    "\n",
    "import matplotlib.pyplot as plt\n",
    "\n",
    "# Create a scatter plot of body weight vs. awake time\n",
    "fig, ax = plt.subplots()\n",
    "ax.scatter(df.bodywt, df.awake)\n",
    "plt.scatter(df.bodywt, df.awake)\n",
    "plt.xlabel(\"Body Weight\")\n",
    "plt.ylabel(\"Awake Time\")\n",
    "plt.title(\"Body Weight vs. Awake Time\")\n",
    "plt.show()\n",
    "\n"
   ]
  },
  {
   "cell_type": "code",
   "execution_count": null,
   "metadata": {},
   "outputs": [],
   "source": [
    "# Create the same scatter plot as in Part c. using seaborn and modify it so that the points\n",
    "# in the scatter plot are coloured according to the value of the variable vore .\n",
    "\n",
    "import seaborn as sns\n",
    "\n",
    "# Create a scatter plot of body weight vs. awake time\n",
    "fig, ax = plt.subplots()\n",
    "sns.scatterplot(df.bodywt, df.awake, hue = df.vore)\n",
    "plt.xlabel(\"Body Weight\")\n",
    "plt.ylabel(\"Awake Time\")\n",
    "plt.title(\"Body Weight vs. Awake Time\")\n",
    "plt.show()\n"
   ]
  },
  {
   "cell_type": "code",
   "execution_count": null,
   "metadata": {},
   "outputs": [],
   "source": [
    "# Create the same scatter plot as in Part c. using plotly and modify it so that the scatter\n",
    "# plot only contains the data about mammals that are herbivores (herbi) and weigh 10\n",
    "# kilograms or less. \n",
    "\n",
    "import plotly.express as px\n",
    "\n",
    "# Create a scatter plot of body weight vs. awake time\n",
    "fig = px.scatter(df[df.vore == \"herbi\"], x = \"bodywt\", y = \"awake\")\n",
    "fig.show()\n",
    "\n"
   ]
  }
 ],
 "metadata": {
  "kernelspec": {
   "display_name": "base",
   "language": "python",
   "name": "python3"
  },
  "language_info": {
   "codemirror_mode": {
    "name": "ipython",
    "version": 3
   },
   "file_extension": ".py",
   "mimetype": "text/x-python",
   "name": "python",
   "nbconvert_exporter": "python",
   "pygments_lexer": "ipython3",
   "version": "3.8.5"
  },
  "orig_nbformat": 4
 },
 "nbformat": 4,
 "nbformat_minor": 2
}
