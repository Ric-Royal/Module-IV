{
 "cells": [
  {
   "cell_type": "markdown",
   "id": "cf76168a",
   "metadata": {},
   "source": [
    "## Data Cleansing for Health Facilities Dataset"
   ]
  },
  {
   "cell_type": "markdown",
   "id": "63f99528",
   "metadata": {},
   "source": [
    "### Load and Examine the Dataset"
   ]
  },
  {
   "cell_type": "code",
   "execution_count": null,
   "id": "7d980457",
   "metadata": {},
   "outputs": [],
   "source": [
    "import pandas as pd\n",
    "\n",
    "# Load the dataset\n",
    "data = pd.read_csv('/mnt/data/cfafrica-_-data-team-_-outbreak-_-covid19-_-data-_-openafrica-uploads-_-kenya-hospital-ke (1).csv')\n",
    "data.head()"
   ]
  },
  {
   "cell_type": "markdown",
   "id": "3835e473",
   "metadata": {},
   "source": [
    "### Handling Missing Values"
   ]
  },
  {
   "cell_type": "code",
   "execution_count": null,
   "id": "7aad0d49",
   "metadata": {},
   "outputs": [],
   "source": [
    "# Checking for missing values in each column\n",
    "missing_values = data.isnull().sum()\n",
    "missing_values_percentage = (data.isnull().sum() / len(data)) * 100\n",
    "\n",
    "missing_data = pd.DataFrame({\n",
    "    'Missing Values': missing_values,\n",
    "    'Percentage': missing_values_percentage\n",
    "})\n",
    "\n",
    "missing_data.sort_values(by='Percentage', ascending=False)"
   ]
  },
  {
   "cell_type": "code",
   "execution_count": null,
   "id": "6cfd1275",
   "metadata": {},
   "outputs": [],
   "source": [
    "# Dropping the 'Service_names' column\n",
    "data.drop('Service_names', axis=1, inplace=True)\n",
    "\n",
    "# Dropping rows where 'Registration_number' is missing\n",
    "data.dropna(subset=['Registration_number'], inplace=True)\n",
    "\n",
    "# Checking the data types of the columns\n",
    "data_types = data.dtypes\n",
    "data_types"
   ]
  },
  {
   "cell_type": "markdown",
   "id": "05d1d053",
   "metadata": {},
   "source": [
    "### Checking and Correcting Data Types"
   ]
  },
  {
   "cell_type": "code",
   "execution_count": null,
   "id": "897d4c68",
   "metadata": {},
   "outputs": [],
   "source": [
    "import numpy as np\n",
    "\n",
    "# Convert 'None' in 'Code' column to NaN\n",
    "data['Code'] = data['Code'].replace('None', np.nan)\n",
    "\n",
    "# Convert 'Beds' column to numerical values by removing commas\n",
    "data['Beds'] = data['Beds'].str.replace(',', '').astype(float)\n",
    "\n",
    "# Recheck the data types\n",
    "updated_data_types = data.dtypes\n",
    "\n",
    "updated_data_types"
   ]
  },
  {
   "cell_type": "markdown",
   "id": "28198415",
   "metadata": {},
   "source": [
    "### Removing Duplicates"
   ]
  },
  {
   "cell_type": "code",
   "execution_count": null,
   "id": "f6bfe5d3",
   "metadata": {},
   "outputs": [],
   "source": [
    "# Checking for duplicate rows\n",
    "duplicate_rows = data[data.duplicated()]\n",
    "\n",
    "duplicate_count = len(duplicate_rows)\n",
    "duplicate_count"
   ]
  },
  {
   "cell_type": "markdown",
   "id": "0bfbe9fe",
   "metadata": {},
   "source": [
    "### Handling Outliers"
   ]
  },
  {
   "cell_type": "code",
   "execution_count": null,
   "id": "2ac9ce66",
   "metadata": {},
   "outputs": [],
   "source": [
    "import matplotlib.pyplot as plt\n",
    "import seaborn as sns\n",
    "\n",
    "# Plotting box plots for numerical columns\n",
    "plt.figure(figsize=(15, 5))\n",
    "\n",
    "plt.subplot(1, 3, 1)\n",
    "sns.boxplot(data['Beds'])\n",
    "plt.title('Beds')\n",
    "\n",
    "plt.subplot(1, 3, 2)\n",
    "sns.boxplot(data['Cots'])\n",
    "plt.title('Cots')\n",
    "\n",
    "plt.subplot(1, 3, 3)\n",
    "sns.boxplot(data['Beds and Cots'])\n",
    "plt.title('Beds and Cots')\n",
    "\n",
    "plt.tight_layout()\n",
    "plt.show()"
   ]
  },
  {
   "cell_type": "markdown",
   "id": "3c155e15",
   "metadata": {},
   "source": [
    "### Correcting Inconsistent Data Entries"
   ]
  },
  {
   "cell_type": "code",
   "execution_count": null,
   "id": "7df1e077",
   "metadata": {},
   "outputs": [],
   "source": [
    "# Standardizing the 'Facility type' column to title case\n",
    "data['Facility type'] = data['Facility type'].str.title()\n",
    "\n",
    "# Rechecking unique values for 'Facility type'\n",
    "unique_facility_types = data['Facility type'].unique()\n",
    "\n",
    "unique_facility_types"
   ]
  }
 ],
 "metadata": {},
 "nbformat": 4,
 "nbformat_minor": 5
}
